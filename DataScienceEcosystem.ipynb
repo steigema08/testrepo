{
 "cells": [
  {
   "cell_type": "markdown",
   "id": "9df62f1f-1666-4a77-ac0f-8fa85178363c",
   "metadata": {
    "tags": []
   },
   "source": [
    "# Data Science Tools and Ecosystem"
   ]
  },
  {
   "cell_type": "markdown",
   "id": "fde754c8-e9f8-4677-9139-7136ea91ab0f",
   "metadata": {},
   "source": [
    "In this notebook, Data Science Tools and Ecosystems are summarized."
   ]
  },
  {
   "cell_type": "markdown",
   "id": "1ac539e9-6db3-48e8-a6c6-bb5ae9bef9fb",
   "metadata": {},
   "source": [
    "**Objectives:**\n",
    "- List Popular Languages\n",
    "- Identify commonly used libraries by Data Scientists\n",
    "- Exmaples of Data Science Tools\n",
    "- Math Expressions in Python"
   ]
  },
  {
   "cell_type": "markdown",
   "id": "c7b52841-ea44-4a6b-b37a-727585c05a7c",
   "metadata": {},
   "source": [
    "## Author: \n",
    "Mark Steigerwald"
   ]
  },
  {
   "cell_type": "markdown",
   "id": "9b53792f-d32d-4490-a2f4-16c5a56b34eb",
   "metadata": {},
   "source": [
    "Some of the popular languages that Data Scientists use are:"
   ]
  },
  {
   "cell_type": "markdown",
   "id": "5269f1e1-d080-4ebd-84da-c3c4e6b1bf2b",
   "metadata": {},
   "source": [
    "1. Python\n",
    "2. R\n",
    "3. C++\n",
    "4. JavaScript\n",
    "5. Java"
   ]
  },
  {
   "cell_type": "markdown",
   "id": "894a2ba0-e914-4b33-9124-beb1fe3ba05e",
   "metadata": {},
   "source": [
    "Some of the commonly used libraries by Data Sceintists are:"
   ]
  },
  {
   "cell_type": "markdown",
   "id": "326704c4-89da-4b80-bdc8-9f1858f3ecf3",
   "metadata": {},
   "source": [
    "1. Tensor Flow\n",
    "2. NumPy\n",
    "3. Pandas\n",
    "4. Matplotlib\n",
    "5. SciKit-Learn"
   ]
  },
  {
   "cell_type": "markdown",
   "id": "a2feb383-20e2-47bc-a530-87947f7990c3",
   "metadata": {},
   "source": [
    "| Data Science Tools |\n",
    "| ------------------ |\n",
    "| Jupyter Notebook |\n",
    "| Apache Spark |\n",
    "| Hadoop |\n",
    "| Python |"
   ]
  },
  {
   "cell_type": "markdown",
   "id": "3a505e9a-e397-4c84-b03d-b45708e8b951",
   "metadata": {},
   "source": [
    "### Below are a few examples of evaluating arithmetic expressions in Python"
   ]
  },
  {
   "cell_type": "code",
   "execution_count": 15,
   "id": "50611d30-3c88-4f30-abda-cadb21150f1d",
   "metadata": {
    "tags": []
   },
   "outputs": [
    {
     "data": {
      "text/plain": [
       "17"
      ]
     },
     "execution_count": 15,
     "metadata": {},
     "output_type": "execute_result"
    }
   ],
   "source": [
    "# This is a simple arithmetic expression to multiply then add integers\n",
    "(3*4)+5"
   ]
  },
  {
   "cell_type": "code",
   "execution_count": 31,
   "id": "00fcd0be-7216-48a8-993d-70b7386ea4f1",
   "metadata": {
    "tags": []
   },
   "outputs": [
    {
     "data": {
      "text/plain": [
       "3.33"
      ]
     },
     "execution_count": 31,
     "metadata": {},
     "output_type": "execute_result"
    }
   ],
   "source": [
    "# This will convert 200 minutes to hours by dividing by 60 rounded to two decimals\n",
    "round (200/60,2) "
   ]
  },
  {
   "cell_type": "code",
   "execution_count": null,
   "id": "9728226d-aa51-46d7-81a9-a463d9295f59",
   "metadata": {},
   "outputs": [],
   "source": []
  }
 ],
 "metadata": {
  "kernelspec": {
   "display_name": "Python 3 (ipykernel)",
   "language": "python",
   "name": "python3"
  },
  "language_info": {
   "codemirror_mode": {
    "name": "ipython",
    "version": 3
   },
   "file_extension": ".py",
   "mimetype": "text/x-python",
   "name": "python",
   "nbconvert_exporter": "python",
   "pygments_lexer": "ipython3",
   "version": "3.11.7"
  }
 },
 "nbformat": 4,
 "nbformat_minor": 5
}
